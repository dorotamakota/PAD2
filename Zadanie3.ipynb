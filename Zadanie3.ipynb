{
 "cells": [
  {
   "cell_type": "code",
   "execution_count": null,
   "outputs": [],
   "source": [
    "\"\"\"\n",
    "EX 3.\n",
    "\"\"\""
   ],
   "metadata": {
    "collapsed": false
   }
  },
  {
   "cell_type": "code",
   "execution_count": 4,
   "outputs": [
    {
     "data": {
      "text/plain": "<Figure size 640x480 with 1 Axes>",
      "image/png": "[encoded data removed]"
     },
     "metadata": {},
     "output_type": "display_data"
    }
   ],
   "source": [
    "import numpy as np\n",
    "import pandas as pd\n",
    "df = pd.read_csv(\"Seattle2014.csv\")\n",
    "# use pandas to extract rainfall inches as a NumPy array\n",
    "rainfall = df[\"PRCP\"].values\n",
    "inches = rainfall / 254.0  # 1/10mm -> inches\n",
    "\n",
    "%matplotlib inline\n",
    "import matplotlib.pyplot as plt\n",
    "import seaborn; seaborn.set()\n",
    "plt.hist(inches, 40);"
   ],
   "metadata": {
    "collapsed": false
   }
  },
  {
   "cell_type": "code",
   "execution_count": 5,
   "outputs": [
    {
     "data": {
      "text/plain": "               STATION                                STATION_NAME      DATE  \\\n0    GHCND:USW00024233  SEATTLE TACOMA INTERNATIONAL AIRPORT WA US  20140101   \n1    GHCND:USW00024233  SEATTLE TACOMA INTERNATIONAL AIRPORT WA US  20140102   \n2    GHCND:USW00024233  SEATTLE TACOMA INTERNATIONAL AIRPORT WA US  20140103   \n3    GHCND:USW00024233  SEATTLE TACOMA INTERNATIONAL AIRPORT WA US  20140104   \n4    GHCND:USW00024233  SEATTLE TACOMA INTERNATIONAL AIRPORT WA US  20140105   \n..                 ...                                         ...       ...   \n360  GHCND:USW00024233  SEATTLE TACOMA INTERNATIONAL AIRPORT WA US  20141227   \n361  GHCND:USW00024233  SEATTLE TACOMA INTERNATIONAL AIRPORT WA US  20141228   \n362  GHCND:USW00024233  SEATTLE TACOMA INTERNATIONAL AIRPORT WA US  20141229   \n363  GHCND:USW00024233  SEATTLE TACOMA INTERNATIONAL AIRPORT WA US  20141230   \n364  GHCND:USW00024233  SEATTLE TACOMA INTERNATIONAL AIRPORT WA US  20141231   \n\n     PRCP  SNWD  SNOW  TMAX  TMIN  AWND  WDF2  WDF5  WSF2  WSF5  WT01  WT05  \\\n0       0     0     0    72    33    12   340   310    36    40 -9999 -9999   \n1      41     0     0   106    61    32   190   200    94   116 -9999 -9999   \n2      15     0     0    89    28    26    30    50    63    72     1 -9999   \n3       0     0     0    78     6    27    40    40    45    58     1 -9999   \n4       0     0     0    83    -5    37    10    10    67    76 -9999 -9999   \n..    ...   ...   ...   ...   ...   ...   ...   ...   ...   ...   ...   ...   \n360    33     0     0    94    44    49   210   210   112   161     1 -9999   \n361    41     0     0    67    28    18    50    30    58    72     1 -9999   \n362     0     0     0    61     6    43   350   350    76   103     1 -9999   \n363     0     0     0    33   -21    36    90    70    63    76 -9999 -9999   \n364     0     0     0    33   -27    30    30 -9999    58 -9999 -9999 -9999   \n\n     WT02  WT03  \n0   -9999 -9999  \n1   -9999 -9999  \n2   -9999 -9999  \n3   -9999 -9999  \n4   -9999 -9999  \n..    ...   ...  \n360 -9999 -9999  \n361 -9999 -9999  \n362 -9999 -9999  \n363 -9999 -9999  \n364 -9999 -9999  \n\n[365 rows x 17 columns]",
      "text/html": "<div>\n<style scoped>\n    .dataframe tbody tr th:only-of-type {\n        vertical-align: middle;\n    }\n\n    .dataframe tbody tr th {\n        vertical-align: top;\n    }\n\n    .dataframe thead th {\n        text-align: right;\n    }\n</style>\n<table border=\"1\" class=\"dataframe\">\n  <thead>\n    <tr style=\"text-align: right;\">\n      <th></th>\n      <th>STATION</th>\n      <th>STATION_NAME</th>\n      <th>DATE</th>\n      <th>PRCP</th>\n      <th>SNWD</th>\n      <th>SNOW</th>\n      <th>TMAX</th>\n      <th>TMIN</th>\n      <th>AWND</th>\n      <th>WDF2</th>\n      <th>WDF5</th>\n      <th>WSF2</th>\n      <th>WSF5</th>\n      <th>WT01</th>\n      <th>WT05</th>\n      <th>WT02</th>\n      <th>WT03</th>\n    </tr>\n  </thead>\n  <tbody>\n    <tr>\n      <th>0</th>\n      <td>GHCND:USW00024233</td>\n      <td>SEATTLE TACOMA INTERNATIONAL AIRPORT WA US</td>\n      <td>20140101</td>\n      <td>0</td>\n      <td>0</td>\n      <td>0</td>\n      <td>72</td>\n      <td>33</td>\n      <td>12</td>\n      <td>340</td>\n      <td>310</td>\n      <td>36</td>\n      <td>40</td>\n      <td>-9999</td>\n      <td>-9999</td>\n      <td>-9999</td>\n      <td>-9999</td>\n    </tr>\n    <tr>\n      <th>1</th>\n      <td>GHCND:USW00024233</td>\n      <td>SEATTLE TACOMA INTERNATIONAL AIRPORT WA US</td>\n      <td>20140102</td>\n      <td>41</td>\n      <td>0</td>\n      <td>0</td>\n      <td>106</td>\n      <td>61</td>\n      <td>32</td>\n      <td>190</td>\n      <td>200</td>\n      <td>94</td>\n      <td>116</td>\n      <td>-9999</td>\n      <td>-9999</td>\n      <td>-9999</td>\n      <td>-9999</td>\n    </tr>\n    <tr>\n      <th>2</th>\n      <td>GHCND:USW00024233</td>\n      <td>SEATTLE TACOMA INTERNATIONAL AIRPORT WA US</td>\n      <td>20140103</td>\n      <td>15</td>\n      <td>0</td>\n      <td>0</td>\n      <td>89</td>\n      <td>28</td>\n      <td>26</td>\n      <td>30</td>\n      <td>50</td>\n      <td>63</td>\n      <td>72</td>\n      <td>1</td>\n      <td>-9999</td>\n      <td>-9999</td>\n      <td>-9999</td>\n    </tr>\n    <tr>\n      <th>3</th>\n      <td>GHCND:USW00024233</td>\n      <td>SEATTLE TACOMA INTERNATIONAL AIRPORT WA US</td>\n      <td>20140104</td>\n      <td>0</td>\n      <td>0</td>\n      <td>0</td>\n      <td>78</td>\n      <td>6</td>\n      <td>27</td>\n      <td>40</td>\n      <td>40</td>\n      <td>45</td>\n      <td>58</td>\n      <td>1</td>\n      <td>-9999</td>\n      <td>-9999</td>\n      <td>-9999</td>\n    </tr>\n    <tr>\n      <th>4</th>\n      <td>GHCND:USW00024233</td>\n      <td>SEATTLE TACOMA INTERNATIONAL AIRPORT WA US</td>\n      <td>20140105</td>\n      <td>0</td>\n      <td>0</td>\n      <td>0</td>\n      <td>83</td>\n      <td>-5</td>\n      <td>37</td>\n      <td>10</td>\n      <td>10</td>\n      <td>67</td>\n      <td>76</td>\n      <td>-9999</td>\n      <td>-9999</td>\n      <td>-9999</td>\n      <td>-9999</td>\n    </tr>\n    <tr>\n      <th>...</th>\n      <td>...</td>\n      <td>...</td>\n      <td>...</td>\n      <td>...</td>\n      <td>...</td>\n      <td>...</td>\n      <td>...</td>\n      <td>...</td>\n      <td>...</td>\n      <td>...</td>\n      <td>...</td>\n      <td>...</td>\n      <td>...</td>\n      <td>...</td>\n      <td>...</td>\n      <td>...</td>\n      <td>...</td>\n    </tr>\n    <tr>\n      <th>360</th>\n      <td>GHCND:USW00024233</td>\n      <td>SEATTLE TACOMA INTERNATIONAL AIRPORT WA US</td>\n      <td>20141227</td>\n      <td>33</td>\n      <td>0</td>\n      <td>0</td>\n      <td>94</td>\n      <td>44</td>\n      <td>49</td>\n      <td>210</td>\n      <td>210</td>\n      <td>112</td>\n      <td>161</td>\n      <td>1</td>\n      <td>-9999</td>\n      <td>-9999</td>\n      <td>-9999</td>\n    </tr>\n    <tr>\n      <th>361</th>\n      <td>GHCND:USW00024233</td>\n      <td>SEATTLE TACOMA INTERNATIONAL AIRPORT WA US</td>\n      <td>20141228</td>\n      <td>41</td>\n      <td>0</td>\n      <td>0</td>\n      <td>67</td>\n      <td>28</td>\n      <td>18</td>\n      <td>50</td>\n      <td>30</td>\n      <td>58</td>\n      <td>72</td>\n      <td>1</td>\n      <td>-9999</td>\n      <td>-9999</td>\n      <td>-9999</td>\n    </tr>\n    <tr>\n      <th>362</th>\n      <td>GHCND:USW00024233</td>\n      <td>SEATTLE TACOMA INTERNATIONAL AIRPORT WA US</td>\n      <td>20141229</td>\n      <td>0</td>\n      <td>0</td>\n      <td>0</td>\n      <td>61</td>\n      <td>6</td>\n      <td>43</td>\n      <td>350</td>\n      <td>350</td>\n      <td>76</td>\n      <td>103</td>\n      <td>1</td>\n      <td>-9999</td>\n      <td>-9999</td>\n      <td>-9999</td>\n    </tr>\n    <tr>\n      <th>363</th>\n      <td>GHCND:USW00024233</td>\n      <td>SEATTLE TACOMA INTERNATIONAL AIRPORT WA US</td>\n      <td>20141230</td>\n      <td>0</td>\n      <td>0</td>\n      <td>0</td>\n      <td>33</td>\n      <td>-21</td>\n      <td>36</td>\n      <td>90</td>\n      <td>70</td>\n      <td>63</td>\n      <td>76</td>\n      <td>-9999</td>\n      <td>-9999</td>\n      <td>-9999</td>\n      <td>-9999</td>\n    </tr>\n    <tr>\n      <th>364</th>\n      <td>GHCND:USW00024233</td>\n      <td>SEATTLE TACOMA INTERNATIONAL AIRPORT WA US</td>\n      <td>20141231</td>\n      <td>0</td>\n      <td>0</td>\n      <td>0</td>\n      <td>33</td>\n      <td>-27</td>\n      <td>30</td>\n      <td>30</td>\n      <td>-9999</td>\n      <td>58</td>\n      <td>-9999</td>\n      <td>-9999</td>\n      <td>-9999</td>\n      <td>-9999</td>\n      <td>-9999</td>\n    </tr>\n  </tbody>\n</table>\n<p>365 rows × 17 columns</p>\n</div>"
     },
     "execution_count": 5,
     "metadata": {},
     "output_type": "execute_result"
    }
   ],
   "source": [
    "df"
   ],
   "metadata": {
    "collapsed": false
   }
  },
  {
   "cell_type": "code",
   "execution_count": 25,
   "outputs": [
    {
     "name": "stdout",
     "output_type": "stream",
     "text": [
      "Number days without rain:\n"
     ]
    },
    {
     "data": {
      "text/plain": "215"
     },
     "execution_count": 25,
     "metadata": {},
     "output_type": "execute_result"
    }
   ],
   "source": [
    "print(\"Number days without rain:\")\n",
    "df[df[\"PRCP\"] == 0].shape[0]"
   ],
   "metadata": {
    "collapsed": false
   }
  },
  {
   "cell_type": "code",
   "execution_count": 26,
   "outputs": [
    {
     "name": "stdout",
     "output_type": "stream",
     "text": [
      "Number days with rain:\n"
     ]
    },
    {
     "data": {
      "text/plain": "150"
     },
     "execution_count": 26,
     "metadata": {},
     "output_type": "execute_result"
    }
   ],
   "source": [
    "print(\"Number days with rain:\")\n",
    "df[df[\"PRCP\"] > 0].shape[0]"
   ],
   "metadata": {
    "collapsed": false
   }
  },
  {
   "cell_type": "code",
   "execution_count": 27,
   "outputs": [
    {
     "name": "stdout",
     "output_type": "stream",
     "text": [
      "Days with more than 0.5 inches:\n"
     ]
    },
    {
     "data": {
      "text/plain": "37"
     },
     "execution_count": 27,
     "metadata": {},
     "output_type": "execute_result"
    }
   ],
   "source": [
    "print(\"Days with more than 0.5 inches:\")\n",
    "inches[inches > 0.5].shape[0]"
   ],
   "metadata": {
    "collapsed": false
   }
  },
  {
   "cell_type": "code",
   "execution_count": 32,
   "outputs": [
    {
     "name": "stdout",
     "output_type": "stream",
     "text": [
      "Rainy days with < 0.2 inches:\n",
      "75\n"
     ]
    }
   ],
   "source": [
    "print(\"Rainy days with < 0.2 inches:\")\n",
    "less_raining = inches[(inches > 0) & (inches < 0.2)]\n",
    "print(less_raining.shape[0])"
   ],
   "metadata": {
    "collapsed": false
   }
  },
  {
   "cell_type": "code",
   "execution_count": 33,
   "outputs": [
    {
     "name": "stdout",
     "output_type": "stream",
     "text": [
      "Median precip on rainy days in 2014 (inches):\n",
      "0.19488188976377951\n"
     ]
    }
   ],
   "source": [
    "print(\"Median precip on rainy days in 2014 (inches):\")\n",
    "raining = inches[(inches > 0)]\n",
    "print(np.median(raining))"
   ],
   "metadata": {
    "collapsed": false
   }
  },
  {
   "cell_type": "code",
   "execution_count": 34,
   "outputs": [
    {
     "name": "stdout",
     "output_type": "stream",
     "text": [
      "Median precip on summer days in 2014 (inches):\n",
      "0.0\n"
     ]
    }
   ],
   "source": [
    "print(\"Median precip on summer days in 2014 (inches):\")\n",
    "summer_days=inches[172:262]\n",
    "print(np.median(summer_days))"
   ],
   "metadata": {
    "collapsed": false
   }
  },
  {
   "cell_type": "code",
   "execution_count": 35,
   "outputs": [
    {
     "name": "stdout",
     "output_type": "stream",
     "text": [
      "Maximum precip on summer days in 2014 (inches):\n",
      "0.8503937007874016\n"
     ]
    }
   ],
   "source": [
    "print(\"Maximum precip on summer days in 2014 (inches):\")\n",
    "print(np.max(summer_days))"
   ],
   "metadata": {
    "collapsed": false
   }
  },
  {
   "cell_type": "code",
   "execution_count": 36,
   "outputs": [
    {
     "name": "stdout",
     "output_type": "stream",
     "text": [
      "Median precip on non-summer rainy days (inches):\n",
      "1.8385826771653544\n"
     ]
    }
   ],
   "source": [
    "print(\"Median precip on non-summer rainy days (inches):\")\n",
    "spring_fall_winter_days=np.concatenate([inches[:172], inches[262:]])\n",
    "print(np.max(spring_fall_winter_days))"
   ],
   "metadata": {
    "collapsed": false
   }
  },
  {
   "cell_type": "code",
   "execution_count": null,
   "outputs": [],
   "source": [],
   "metadata": {
    "collapsed": false
   }
  }
 ],
 "metadata": {
  "kernelspec": {
   "display_name": "Python 3.10.8 64-bit",
   "language": "python",
   "name": "python3"
  },
  "language_info": {
   "name": "python",
   "version": "3.10.8"
  },
  "orig_nbformat": 4,
  "vscode": {
   "interpreter": {
    "hash": "7b26acb6e63865d548d14e824bd39fa3d8310f84f7af7fce8679b1bd10fcd520"
   }
  }
 },
 "nbformat": 4,
 "nbformat_minor": 2
}
